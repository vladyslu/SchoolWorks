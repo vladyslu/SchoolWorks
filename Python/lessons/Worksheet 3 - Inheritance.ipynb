{
 "cells": [
  {
   "cell_type": "markdown",
   "metadata": {},
   "source": [
    "# Inheritance\n",
    "This worksheet corresponds to *Lesson 3: Inheritance* in the online course. Refer to that lesson as necessary to complete these practice activities."
   ]
  },
  {
   "cell_type": "markdown",
   "metadata": {},
   "source": [
    "## Practice 1\n",
    "Create an `Animal` class that includes two string attributes: `name` and `location`. Implement the appropriate `__init__` and `display` methods to create and display objects respectively. \n",
    "\n",
    "Using inheritance, create another class called `Mammal` that inherits from the `Animal` class. Create two `Mammal` objects and display each object's information using the `display` method. "
   ]
  },
  {
   "cell_type": "code",
   "execution_count": 2,
   "metadata": {
    "collapsed": true
   },
   "outputs": [],
   "source": [
    "# your code here  "
   ]
  },
  {
   "cell_type": "markdown",
   "metadata": {},
   "source": [
    "## Practice 2\n",
    "Create an `Animal` class that includes two string attributes: `name` and `location`. Implement the appropriate `__init__` and `display` methods to create and display objects. \n",
    "\n",
    "Using inheritance, create another class called `Mammal` that inherits from the `Animal` class. Add at least one more attribute that is specific to the `Mammal` class and is not included in the `Animal` class.\n",
    "\n",
    "Create two `Mammal` objects and display them. "
   ]
  },
  {
   "cell_type": "code",
   "execution_count": 4,
   "metadata": {
    "collapsed": true
   },
   "outputs": [],
   "source": [
    "# your code here  "
   ]
  },
  {
   "cell_type": "markdown",
   "metadata": {},
   "source": [
    "## Practice 3\n",
    "Create a class `Animal` that includes two string attributes: `name` and `location`. Implement the appropriate `__init__` and `display` methods to create and display objects. \n",
    "\n",
    "Use inheritance to create another class called `Mammal` that inherits from the `Animal` class. \n",
    "* Add one more attribute specific to the `Mammal` class.\n",
    "* Override the `display` method to display the newly-added attribute of the `Mammal` class. \n",
    "* Create two `Mammal` objects and display them. \n",
    "\n",
    "Create another class called `Bird` that also inherits from the `Animal` class. \n",
    "* Add one more attribute that is specific to the `Bird` class.\n",
    "* Override the `display` method to display the new attribute of the `Bird` class. \n",
    "* Create two `Bird` objects and display them. \n",
    "\n",
    "Create another class called `Reptile` that inherits from the `Animal` class. \n",
    "* Add one more attribute specific to the `Reptile` class.\n",
    "* Override the `display` method to display the new attribute of the `Reptile` class. \n",
    "* Create two `Reptile` objects and display them."
   ]
  },
  {
   "cell_type": "code",
   "execution_count": 6,
   "metadata": {
    "collapsed": true
   },
   "outputs": [],
   "source": [
    "# your code here  "
   ]
  },
  {
   "cell_type": "markdown",
   "metadata": {},
   "source": [
    "## Practice 4\n",
    "Create a class `Animal` that includes two string attributes: `name` and `location`. Implement the appropriate `__init__` and `display` methods to create and display objects respectively. \n",
    "\n",
    "Use inheritance to create another class called `Mammal` that inherits from the `Animal` class. \n",
    "* Add one more attribute specific to the `Mammal` class.\n",
    "* Override the `__init__` and `display` methods to display the new attribute of the `Mammal` class. \n",
    "* Create two `Mammal` objects and display them. \n",
    "\n",
    "Create another class called `Bird` that also inherits from the `Animal` class. \n",
    "* Add one more attribute specific to the `Bird` class.\n",
    "* Override the `__init__` and `display` methods to display the new attribute of the `Bird` class. \n",
    "* Create two `Bird` objects and display them. \n",
    "\n",
    "Create another class called `Reptile` that inherits from the `Animal` class. \n",
    "* Add one more attribute specific to the `Reptile` class.\n",
    "* Override the `__init__` and `display` methods to display the new attribute of the `Reptile` class. \n",
    "* Create two `Reptile` objects and display them."
   ]
  },
  {
   "cell_type": "code",
   "execution_count": 8,
   "metadata": {
    "collapsed": true
   },
   "outputs": [],
   "source": [
    "# your code here  "
   ]
  },
  {
   "cell_type": "markdown",
   "metadata": {},
   "source": [
    "## Practice 5\n",
    "Create a class Animal that includes two string attributes: name and location. Implement the appropriate `__init__` and display method, to create and display objects respectively. \n",
    "\n",
    "Use inheritance to create another class called Mammal that will inherit from the Animal class. \n",
    "* Add one more attribute specific to the Mammal class.\n",
    "* Override the `__init__` and display methods to display the new added attribute of the mammal class. Use the `__init__` method of the parent class (Animal) to set  the values of the name and location attributes. \n",
    "* Create two mammal objects and display them. \n",
    "\n",
    "Create another class called Bird that also inherits from the Animal class. \n",
    "* Add one more attribute that specific to the bird class.\n",
    "* Override the `__init__` and display methods to display the new added attribute of the bird class. Use the `__init__` method of the parent class (Animal) to set  the values of the name and location attributes. \n",
    "* Create two bird objects and display them. \n",
    "\n",
    "Create another class called Reptile that inherits from the animal class. \n",
    "* Add one more attribute that specific to the reptile class.\n",
    "* Override the `__init__` and display methods to display the new added attribute of the reptile class. Use the `__init__` method of the parent class (Animal) to set  the values of the name and location attributes. \n",
    "* Create two reptile objects and display them"
   ]
  },
  {
   "cell_type": "code",
   "execution_count": 10,
   "metadata": {
    "collapsed": true
   },
   "outputs": [],
   "source": [
    "# your code here  "
   ]
  },
  {
   "cell_type": "markdown",
   "metadata": {},
   "source": [
    "## Practice 6\n",
    "Change the code below as follows:\n",
    "* Add an attribute to the `Director` class called `team`. The team represents the employees that the director manages. The `team` attribute should be a list of `Employee` objects. \n",
    "    * Implement the `add_employee` method, which takes as input an `Employee` object and adds it to the `team` object.\n",
    "    * Implement the `display` method of the `Director` class to display the information about the director and the list of the employees that the director manages.\n",
    "\n",
    "* Create another class called `HourlyEmployee` that inherits from `Employee`.\n",
    "    * Add one attribute to the `HourlyEmployee` class called `hourly_rate`, which represents the hourly pay rate for the hourly employee. <br>\n",
    "    * Implement the  `__init__`  method and `display` methods for the `HourlyEmployee` class.\n",
    "\n",
    "After you make these changes, verify that the code works by making sure it can display the attributes of the `Director` object using the `display` method. "
   ]
  },
  {
   "cell_type": "code",
   "execution_count": 2,
   "metadata": {},
   "outputs": [],
   "source": [
    "class Person:\n",
    "    first_name=\"\" \n",
    "    last_name=\"\" \n",
    "    def __init__(self,fname,lname): \n",
    "        self.first_name = fname\n",
    "        self.last_name = lname\n",
    "    def display(self): \n",
    "        print(\"Person First Name: \" + self.first_name)\n",
    "        print(\"Person Last Name: \" + self.last_name)\n",
    "        \n",
    "\n",
    "class Employee(Person):\n",
    "    employee_id=None\n",
    "    def __init__(self,emp_id,fname,lname):\n",
    "        Person.__init__(self,fname,lname) \n",
    "        self.employee_id =emp_id\n",
    "    def display(self):\n",
    "        print(\"Employee ID: \" + self.employee_id)\n",
    "        print(\"Employee First Name: \" + self.first_name)\n",
    "        print(\"Employee Last Name: \" + self.last_name)\n",
    "\n",
    "class Director(Employee):\n",
    "    director_level=None\n",
    "    team =None\n",
    "    def __init__(self,emp_id,fname,lname,d_level):\n",
    "        # do not change this code\n",
    "        Employee.__init__(self,emp_id,fname,lname)\n",
    "        self.director_level = d_level\n",
    "        self.team = list()\n",
    "    def display(self):\n",
    "        # a method that displays all the attributes of a director object\n",
    "        pass\n",
    "    def add_employee(self,emp):\n",
    "        # a method to add an employee object to the team attribute \n",
    "        pass\n",
    "    \n",
    "class HourlyEmployee(Employee):\n",
    "    hourly_rate = None\n",
    "    # implement this  class\n",
    "    pass\n",
    "\n",
    "\n",
    "\n",
    "# DO NOT CHANGE THIS CODE \n",
    "d1 = Director(\"E24523525\",\"Haythem\",\"Balti\",\"D-LEVEL-1\")\n",
    "\n",
    "\n",
    "# create first employee object \n",
    "e1 = Employee(\"E4746456456\",\"Mark\",\"Smith\")\n",
    "# add employee e1 to the team attribute of the Director class \n",
    "d1.add_employee(e1)\n",
    "# create second hourlyemployee object \n",
    "e2 = HourlyEmployee(\"E47464578978\",\"Mary\",\"Lang\")\n",
    "# add hourly employee e2 to the team attribute of the Director class \n",
    "d1.add_employee(e2)\n",
    "\n",
    "\n",
    "d1.display()\n"
   ]
  },
  {
   "cell_type": "markdown",
   "metadata": {},
   "source": [
    "## Practice 7\n",
    "Implement the classes below as follows:\n",
    "* Implement the `__init__` and `display` methods of the `Asset` class.\n",
    "* Next, leverage the `__init__` and `display` methods from the `Asset` class to create the following:\n",
    "    * Implement the `__init__` and `display` methods of the `Stock` class. \n",
    "    * Implement the `__init__` and `display` methods of the `Bond` class. \n",
    "    * Implement the `__init__` and `display` methods of the `MutualFund` class. \n",
    "* Create two objects from each of the `Stock`, `Bond`, and `MutualFund` classes. Use the `display` method to display the contents of each object.  "
   ]
  },
  {
   "cell_type": "code",
   "execution_count": 3,
   "metadata": {},
   "outputs": [],
   "source": [
    "class Asset: \n",
    "    symbol=None\n",
    "    price=None\n",
    "    description=None\n",
    "    def __init__(self,sym,pce,desc):\n",
    "        pass\n",
    "    def display(self):\n",
    "        pass\n",
    "    \n",
    "class Stock(Asset):\n",
    "    company_name = None\n",
    "\n",
    "class Bond(Asset):\n",
    "    interest_rate=None\n",
    "\n",
    "class MutualFund(Asset):\n",
    "    fund_manager=None\n"
   ]
  },
  {
   "cell_type": "code",
   "execution_count": null,
   "metadata": {},
   "outputs": [],
   "source": []
  }
 ],
 "metadata": {
  "kernelspec": {
   "display_name": "Python 3",
   "language": "python",
   "name": "python3"
  },
  "language_info": {
   "codemirror_mode": {
    "name": "ipython",
    "version": 3
   },
   "file_extension": ".py",
   "mimetype": "text/x-python",
   "name": "python",
   "nbconvert_exporter": "python",
   "pygments_lexer": "ipython3",
   "version": "3.8.8"
  }
 },
 "nbformat": 4,
 "nbformat_minor": 2
}
