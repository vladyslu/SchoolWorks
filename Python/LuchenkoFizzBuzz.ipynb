{
 "cells": [
  {
   "cell_type": "code",
   "execution_count": 9,
   "id": "8853e210",
   "metadata": {},
   "outputs": [
    {
     "name": "stdout",
     "output_type": "stream",
     "text": [
      "How many fizzing and buzzing units do you need in your life?7\n",
      "0\n",
      "1\n",
      "2\n",
      "fizz\n",
      "4\n",
      "buzz\n",
      "fizz\n",
      "7\n",
      "8\n",
      "fizz\n",
      "buzz\n",
      "11\n",
      "fizz\n",
      "13\n",
      "14\n",
      "fizz buzz\n",
      "TRADITION!!\n"
     ]
    }
   ],
   "source": [
    "#Vladyslav Luchenko 08/04/2021\n",
    "\n",
    "number = input(\"How many fizzing and buzzing units do you need in your life?\")\n",
    "i = 0\n",
    "count = 1\n",
    "if number.isnumeric():\n",
    "    print(\"0\")\n",
    "    while(count <= float(number)):\n",
    "        i = i + 1\n",
    "        if (i % 3 == 0) and (i % 5 == 0):\n",
    "            print(\"fizz buzz\")\n",
    "            count = count + 1\n",
    "        else:\n",
    "            if (i % 3 == 0):\n",
    "                print(\"fizz\")\n",
    "                count = count + 1\n",
    "            else:\n",
    "                if (i % 5 == 0):\n",
    "                    print(\"buzz\")\n",
    "                    count = count + 1\n",
    "                else:\n",
    "                    print(i);\n",
    "        \n",
    "        \n",
    "print(\"TRADITION!!\")\n",
    "        "
   ]
  },
  {
   "cell_type": "code",
   "execution_count": null,
   "id": "c4a18f03",
   "metadata": {},
   "outputs": [],
   "source": []
  }
 ],
 "metadata": {
  "kernelspec": {
   "display_name": "Python 3",
   "language": "python",
   "name": "python3"
  },
  "language_info": {
   "codemirror_mode": {
    "name": "ipython",
    "version": 3
   },
   "file_extension": ".py",
   "mimetype": "text/x-python",
   "name": "python",
   "nbconvert_exporter": "python",
   "pygments_lexer": "ipython3",
   "version": "3.8.8"
  }
 },
 "nbformat": 4,
 "nbformat_minor": 5
}
