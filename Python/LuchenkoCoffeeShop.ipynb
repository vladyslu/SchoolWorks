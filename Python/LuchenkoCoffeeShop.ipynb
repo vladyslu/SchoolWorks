{
 "cells": [
  {
   "cell_type": "code",
   "execution_count": 1,
   "id": "c64e639f",
   "metadata": {},
   "outputs": [
    {
     "name": "stdout",
     "output_type": "stream",
     "text": [
      "Do you want small, medium, or large?small\n",
      "Do you want brewed, espresso, or cold press?espresso\n",
      "Do you want a flavored syrup? (Yes or No)yes\n",
      "Do you want hazelnut, vanilla, or caramel?vanilla\n",
      "You asked for a small cup of espresso coffee with vanilla.\n",
      "Your cup of coffee costs 3.0\n",
      "The price with a tip is 3.45\n"
     ]
    }
   ],
   "source": [
    "#Vladyslav Luchenko 08/04/2021\n",
    "cupsize = \"\"\n",
    "coffeeType = \"\"\n",
    "syrup = \"\";\n",
    "syrupType = \"\";\n",
    "cost = 0;\n",
    "while not (cupsize == \"small\" ) and not (cupsize == \"medium\") and not (cupsize == \"large\"):\n",
    "    cupsize = input(\"Do you want small, medium, or large?\").lower()\n",
    "    if not (cupsize == \"small\" ) and not (cupsize == \"medium\") and not (cupsize == \"large\"):\n",
    "        print(\"Wrong input. Try again.\")\n",
    "\n",
    "if (cupsize == \"small\" ):\n",
    "    cost = cost + 2\n",
    "\n",
    "if (cupsize == \"medium\" ):\n",
    "    cost = cost + 3\n",
    "\n",
    "if (cupsize == \"large\" ):\n",
    "    cost = cost + 4\n",
    "        \n",
    "while not (coffeeType == \"brewed\" ) and not (coffeeType == \"espresso\") and not (coffeeType == \"cold press\"):\n",
    "    coffeeType = input(\"Do you want brewed, espresso, or cold press?\").lower()\n",
    "    if not (coffeeType == \"brewed\" ) and not (coffeeType == \"espresso\") and not (coffeeType == \"cold press\"):\n",
    "        print(\"Wrong input. Try again.\")\n",
    "\n",
    "        \n",
    "if (coffeeType.lower() == \"espresso\" ):\n",
    "    cost = cost + 0.5\n",
    "\n",
    "if (coffeeType.lower() == \"cold press\" ):\n",
    "    cost = cost + 1\n",
    "        \n",
    "while not (syrup.lower() == \"yes\" ) and not (syrup.lower() == \"no\"):\n",
    "    syrup = input(\"Do you want a flavored syrup? (Yes or No)\").lower()\n",
    "    if not (syrup == \"yes\" ) and not (syrup == \"no\"):\n",
    "        print(\"Wrong input(Yes or No.) Try again.\")\n",
    "    \n",
    "        \n",
    "if (syrup == \"yes\"):\n",
    "    syrup = \" with \"\n",
    "    cost = cost + 0.5\n",
    "    while not (syrupType == \"hazelnut\" ) and not (syrupType == \"vanilla\") and not (syrupType == \"caramel\"):\n",
    "        syrupType = input(\"Do you want hazelnut, vanilla, or caramel?\").lower()\n",
    "        if not (syrupType == \"hazelnut\" ) and not (syrupType == \"vanilla\") and not (syrupType == \"caramel\"):\n",
    "            print(\"Wrong input. Try again.\")\n",
    "else:\n",
    "    syrup = \"\"\n",
    "            \n",
    "            \n",
    "costTip = cost * 1.15\n",
    "print(\"You asked for a \" + cupsize + \" cup of \" + coffeeType + \" coffee\" + syrup + syrupType + \".\")\n",
    "print(\"Your cup of coffee costs \" + str(cost))\n",
    "print(f\"The price with a tip is {costTip:.2f}\")\n",
    "\n",
    "\n"
   ]
  },
  {
   "cell_type": "code",
   "execution_count": null,
   "id": "6e52cd1b",
   "metadata": {},
   "outputs": [],
   "source": []
  }
 ],
 "metadata": {
  "kernelspec": {
   "display_name": "Python 3",
   "language": "python",
   "name": "python3"
  },
  "language_info": {
   "codemirror_mode": {
    "name": "ipython",
    "version": 3
   },
   "file_extension": ".py",
   "mimetype": "text/x-python",
   "name": "python",
   "nbconvert_exporter": "python",
   "pygments_lexer": "ipython3",
   "version": "3.8.8"
  }
 },
 "nbformat": 4,
 "nbformat_minor": 5
}
